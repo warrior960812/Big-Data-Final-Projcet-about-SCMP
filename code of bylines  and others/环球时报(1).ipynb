{
 "cells": [
  {
   "cell_type": "code",
   "execution_count": 306,
   "metadata": {},
   "outputs": [],
   "source": [
    "root_url='https://search-proquest-com.lib-ezproxy.hkbu.edu.hk/asianews/publication/2030555/citation/883F1EB4ED6B4ED4PQ/5?accountid=11440'"
   ]
  },
  {
   "cell_type": "code",
   "execution_count": 307,
   "metadata": {},
   "outputs": [],
   "source": [
    "from selenium import webdriver\n",
    "import time\n",
    "browser = webdriver.Chrome() \n",
    "browser.get(root_url)"
   ]
  },
  {
   "cell_type": "code",
   "execution_count": 308,
   "metadata": {},
   "outputs": [],
   "source": [
    "SLEEP = 5"
   ]
  },
  {
   "cell_type": "code",
   "execution_count": 309,
   "metadata": {},
   "outputs": [],
   "source": [
    "pages=[\n",
    "     [\"filteryear2015\",\"filtermonth112015\",\"filterissueNameNov15,2015November\"],\n",
    "     [\"filteryear2015\",\"filtermonth112015\",\"filterissueNameNov16,2015November\"],\n",
    "  \n",
    "]"
   ]
  },
  {
   "cell_type": "code",
   "execution_count": 310,
   "metadata": {},
   "outputs": [],
   "source": [
    "def scrape_one_page():\n",
    "    articles=browser.find_elements_by_class_name(\"resultItem\")\n",
    "    data=[]\n",
    "    for article in articles:\n",
    "        headline=article.find_element_by_class_name(\"truncatedResultsTitle\").text\n",
    "        byline2=article.find_elements_by_class_name(\"titleAuthorETC\")[1].text\n",
    "        data.append((headline,byline2))\n",
    "    return data "
   ]
  },
  {
   "cell_type": "code",
   "execution_count": 311,
   "metadata": {},
   "outputs": [
    {
     "name": "stdout",
     "output_type": "stream",
     "text": [
      "Failed on ['filteryear2015', 'filtermonth112015', 'filterissueNameNov15,2015November']\n",
      "Message: no such element: Unable to locate element: {\"method\":\"id\",\"selector\":\"filterissueNameNov15,2015November\"}\n",
      "  (Session info: chrome=70.0.3538.110)\n",
      "  (Driver info: chromedriver=2.44.609545 (c2f88692e98ce7233d2df7c724465ecacfe74df5),platform=Mac OS X 10.13.3 x86_64)\n",
      "\n",
      "Failed on ['filteryear2015', 'filtermonth112015', 'filterissueNameNov16,2015November']\n",
      "Message: no such element: Unable to locate element: {\"method\":\"id\",\"selector\":\"filterissueNameNov16,2015November\"}\n",
      "  (Session info: chrome=70.0.3538.110)\n",
      "  (Driver info: chromedriver=2.44.609545 (c2f88692e98ce7233d2df7c724465ecacfe74df5),platform=Mac OS X 10.13.3 x86_64)\n",
      "\n"
     ]
    }
   ],
   "source": [
    "all_data=[]\n",
    "for page in pages:\n",
    "    try:\n",
    "        browser.get(root_url)\n",
    "        time.sleep(SLEEP)\n",
    "        for element in page:\n",
    "            browser.find_element_by_id(element).click()\n",
    "            time.sleep(SLEEP)\n",
    "        data=scrape_one_page()\n",
    "        all_data.extend(data)\n",
    "        nextpage=browser.find_element_by_css_selector(\"#lor_container > div.pub_bottom_sort_by > nav > ul > li:nth-child(5) > a\")\n",
    "        nextpage.click()\n",
    "        data=scrape_one_page()\n",
    "        all_data.extend(data)\n",
    "    except Exception as e:\n",
    "        print(\"Failed on\",page)\n",
    "        print(e)"
   ]
  },
  {
   "cell_type": "code",
   "execution_count": 312,
   "metadata": {},
   "outputs": [
    {
     "data": {
      "text/html": [
       "<div>\n",
       "<style scoped>\n",
       "    .dataframe tbody tr th:only-of-type {\n",
       "        vertical-align: middle;\n",
       "    }\n",
       "\n",
       "    .dataframe tbody tr th {\n",
       "        vertical-align: top;\n",
       "    }\n",
       "\n",
       "    .dataframe thead th {\n",
       "        text-align: right;\n",
       "    }\n",
       "</style>\n",
       "<table border=\"1\" class=\"dataframe\">\n",
       "  <thead>\n",
       "    <tr style=\"text-align: right;\">\n",
       "      <th></th>\n",
       "      <th>title</th>\n",
       "      <th>byline2</th>\n",
       "    </tr>\n",
       "  </thead>\n",
       "  <tbody>\n",
       "  </tbody>\n",
       "</table>\n",
       "</div>"
      ],
      "text/plain": [
       "Empty DataFrame\n",
       "Columns: [title, byline2]\n",
       "Index: []"
      ]
     },
     "execution_count": 312,
     "metadata": {},
     "output_type": "execute_result"
    }
   ],
   "source": [
    "import pandas as pd \n",
    "df=pd.DataFrame(all_data,columns=[\"title\",\"byline2\"])\n",
    "df"
   ]
  },
  {
   "cell_type": "code",
   "execution_count": 313,
   "metadata": {},
   "outputs": [
    {
     "data": {
      "text/plain": [
       "Series([], Name: byline2, dtype: object)"
      ]
     },
     "execution_count": 313,
     "metadata": {},
     "output_type": "execute_result"
    }
   ],
   "source": [
    "for i in range(len(df[\"byline2\"])):\n",
    "    df['byline2'][i] = df['byline2'][i].split(']')[-1]\n",
    "df[\"byline2\"]\n",
    "for i in range(len(df[\"byline2\"])):\n",
    "    df[\"byline2\"][i]=df[\"byline2\"][i].split(\":\")[0]\n",
    "df[\"byline2\"]"
   ]
  },
  {
   "cell_type": "code",
   "execution_count": 314,
   "metadata": {},
   "outputs": [],
   "source": [
    "df.to_csv(\"ChinaDaily,G20,2015.csv\",encoding='utf-8')"
   ]
  },
  {
   "cell_type": "code",
   "execution_count": null,
   "metadata": {},
   "outputs": [],
   "source": []
  }
 ],
 "metadata": {
  "kernelspec": {
   "display_name": "Python 3",
   "language": "python",
   "name": "python3"
  },
  "language_info": {
   "codemirror_mode": {
    "name": "ipython",
    "version": 3
   },
   "file_extension": ".py",
   "mimetype": "text/x-python",
   "name": "python",
   "nbconvert_exporter": "python",
   "pygments_lexer": "ipython3",
   "version": "3.7.0"
  }
 },
 "nbformat": 4,
 "nbformat_minor": 2
}
