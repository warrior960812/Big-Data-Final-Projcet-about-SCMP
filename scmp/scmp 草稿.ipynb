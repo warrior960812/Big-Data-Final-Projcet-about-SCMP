{
 "cells": [
  {
   "cell_type": "code",
   "execution_count": null,
   "metadata": {
    "scrolled": true
   },
   "outputs": [],
   "source": [
    "!pip install selenium"
   ]
  },
  {
   "cell_type": "code",
   "execution_count": null,
   "metadata": {},
   "outputs": [],
   "source": [
    "!pip install lxml"
   ]
  },
  {
   "cell_type": "code",
   "execution_count": null,
   "metadata": {},
   "outputs": [],
   "source": [
    "help(\"lxml\")"
   ]
  },
  {
   "cell_type": "code",
   "execution_count": null,
   "metadata": {},
   "outputs": [],
   "source": [
    "from selenium import webdriver  \n",
    "from selenium.common.exceptions import NoSuchElementException  \n",
    "import time  \n",
    "import re"
   ]
  },
  {
   "cell_type": "code",
   "execution_count": null,
   "metadata": {},
   "outputs": [],
   "source": [
    "browser = webdriver.Chrome()\n",
    "browser.get(\"https://search-proquest-com.lib-ezproxy.hkbu.edu.hk/asianews/publicationissue/467E58CB14F94BD5PQ/$B/1/South+China+Morning+Post$3b+Hong+Kong/01993Y01Y01$23Jan+1,+1993/$N?accountid=11440\")\n",
    "time.sleep(2)"
   ]
  },
  {
   "cell_type": "code",
   "execution_count": null,
   "metadata": {},
   "outputs": [],
   "source": [
    "from bs4 import BeautifulSoup\n",
    "import pandas as pd"
   ]
  },
  {
   "cell_type": "code",
   "execution_count": null,
   "metadata": {},
   "outputs": [],
   "source": [
    "board=browser.find_elements_by_class_name(\"resultItem\")  \n",
    "board"
   ]
  },
  {
   "cell_type": "code",
   "execution_count": null,
   "metadata": {},
   "outputs": [],
   "source": [
    "len(board)"
   ]
  },
  {
   "cell_type": "code",
   "execution_count": null,
   "metadata": {},
   "outputs": [],
   "source": [
    "board[0]"
   ]
  },
  {
   "cell_type": "code",
   "execution_count": null,
   "metadata": {},
   "outputs": [],
   "source": [
    "board[0].text"
   ]
  },
  {
   "cell_type": "code",
   "execution_count": null,
   "metadata": {},
   "outputs": [],
   "source": [
    "boards=[]\n",
    "for i in range(0,50):\n",
    "    boards.append(board[i].text)\n",
    "boards\n"
   ]
  },
  {
   "cell_type": "code",
   "execution_count": null,
   "metadata": {},
   "outputs": [],
   "source": [
    "for i in '\\s+\\.\\!\\/_,$%^*(+\\\"\\')]+|[+——()?:【】“”‘’！，。’\\n':\n",
    "        boards = [item.replace(i,\" \") for item in boards] \n",
    "boards"
   ]
  },
  {
   "cell_type": "code",
   "execution_count": null,
   "metadata": {},
   "outputs": [],
   "source": [
    "items = []\n",
    "for row in board:\n",
    "    item = {}\n",
    "    item['No.'] = row.find_element_by_class_name('zg_rankNumber').text\n",
    "    item['title'] = row.find_element_by_class_name('p13n-sc-truncated').text\n",
    "    item['author'] = row.find_element_by_class_name('a-row').text\n",
    "    items.append(item)\n",
    "df = pd.DataFrame(items)\n",
    "df"
   ]
  },
  {
   "cell_type": "code",
   "execution_count": null,
   "metadata": {},
   "outputs": [],
   "source": [
    "# CSS的介绍 https://saucelabs.com/resources/articles/selenium-tips-css-selectors#"
   ]
  },
  {
   "cell_type": "code",
   "execution_count": null,
   "metadata": {},
   "outputs": [],
   "source": [
    "from selenium import webdriver\n",
    "\n",
    "driver = webdriver.Chrome()\n",
    "driver.get(\"https://search-proquest-com.lib-ezproxy.hkbu.edu.hk/asianews/publicationissue/231E12A0F78A4ECAPQ/$B/1/South+China+Morning+Post$3b+Hong+Kong/01993Y01Y01$23Jan+1,+1993/$N?accountid=11440\")"
   ]
  },
  {
   "cell_type": "code",
   "execution_count": null,
   "metadata": {},
   "outputs": [],
   "source": [
    "session.text"
   ]
  },
  {
   "cell_type": "code",
   "execution_count": null,
   "metadata": {},
   "outputs": [],
   "source": [
    "articles = []\n",
    "for session in browser.find_element(By.XPATH, '//*[@id=\"result-header-1\"]/a/div'):\n",
    "    article={}\n",
    "    h = session.find_element_by_css_selector(\"truncatedResultsTitle\")\n",
    "    article['headline'] = h.text\n",
    "articles"
   ]
  },
  {
   "cell_type": "code",
   "execution_count": null,
   "metadata": {},
   "outputs": [],
   "source": [
    "articles = []\n",
    "for session in browser.find_elements_by_class(\"#lor_container .horizontal.briefDetailedView\"): #find all articles wrapped in the path of class='summaryBlock' under the id='summaryList_mixed' \n",
    "    article = {}\n",
    "    h = session.find_element_by_css_selector(\"truncatedResultsTitle\")\n",
    "    article['headline'] = h.text #find headline block\n",
    "    article['url'] = h.get_attribute('href') #get url attributes from headline block\n",
    "    article['date'] = session.find_element_by_css_selector(\"span.nth-child(3)\").text #find date\n",
    "    articles.append(article)\n",
    "articles"
   ]
  },
  {
   "cell_type": "code",
   "execution_count": null,
   "metadata": {},
   "outputs": [],
   "source": [
    "articles = []\n",
    "for session in browser.find_elements_by_class_name('resultItem'): #find all articles wrapped in the path of class='summaryBlock' under the id='summaryList_mixed' \n",
    "    article = {}\n",
    "    article[\"headline\"] = session.find_element_by_class_name('resultTitle').text\n",
    "    article[\"authors\"]= session.find_elements_by_class_name(\"titleAuthorETC\")[0].text\n",
    "    articles.append(article)\n",
    "articles"
   ]
  },
  {
   "cell_type": "code",
   "execution_count": null,
   "metadata": {},
   "outputs": [],
   "source": [
    "\n",
    "next_page = browser.find_element_by_link_text('Next')\n",
    "        next_page.click()"
   ]
  },
  {
   "cell_type": "code",
   "execution_count": null,
   "metadata": {},
   "outputs": [],
   "source": [
    "root_url='https://search-proquest-com.lib-ezproxy.hkbu.edu.hk/asianews/publication/26858/citation/6F63087B31B643A0PQ/12?accountid=11440'"
   ]
  },
  {
   "cell_type": "code",
   "execution_count": null,
   "metadata": {},
   "outputs": [],
   "source": [
    "from selenium import webdriver\n",
    "import time \n",
    "time.sleep(5)\n",
    "browser = webdriver.Chrome() #initiate webdriver"
   ]
  },
  {
   "cell_type": "code",
   "execution_count": null,
   "metadata": {},
   "outputs": [],
   "source": [
    "browser.get(root_url)"
   ]
  },
  {
   "cell_type": "code",
   "execution_count": null,
   "metadata": {},
   "outputs": [],
   "source": [
    "browser.find_element_by_id(\"filterdecade2010-2019\").click()\n",
    "time.sleep(5)\n",
    "browser.find_element_by_id(\"filteryear20102010-2018\").click()\n",
    "time.sleep(5)\n",
    "browser.find_element_by_id(\"filtermonth012010\") .click()\n",
    "time.sleep(5)\n",
    "url=browser.find_element_by_id(\"filterissueNameJan1,2010January\").get_attribute(\"href\")"
   ]
  },
  {
   "cell_type": "code",
   "execution_count": null,
   "metadata": {},
   "outputs": [],
   "source": [
    "url=browser.find_element_by_id(\"filterissueNameJan1,2010January\").get_attribute(\"href\")"
   ]
  },
  {
   "cell_type": "code",
   "execution_count": null,
   "metadata": {},
   "outputs": [],
   "source": [
    "browser.get(url)"
   ]
  },
  {
   "cell_type": "code",
   "execution_count": null,
   "metadata": {},
   "outputs": [],
   "source": [
    "nextpage=browser.find_element_by_css_selector(\"#lor_container > div.pub_bottom_sort_by > nav > ul > li:nth-child(5) > a\")\n",
    "nextpage.click()"
   ]
  },
  {
   "cell_type": "code",
   "execution_count": null,
   "metadata": {},
   "outputs": [],
   "source": [
    "df=pd.read_csv()"
   ]
  },
  {
   "cell_type": "code",
   "execution_count": null,
   "metadata": {},
   "outputs": [],
   "source": [
    "[\"filterdecade2010-2019\",\"filteryear20102010-2018\",\"filtermonth012010\",\"filterissueNameJan29,2010January\"],\n",
    "    [\"filterdecade2010-2019\",\"filteryear20102010-2018\",\"filtermonth012010\",\"filterissueNameJan28,2010January\"],\n",
    "    [ \"filterdecade2010-2019\",\"filteryear20102010-2018\",\"filtermonth012010\",\"filterissueNameJan27,2010January\"],\n",
    "    [\"filterdecade2010-2019\",\"filteryear20102010-2018\",\"filtermonth012010\",\"filterissueNameJan26,2010January\"],\n",
    "    [\"filterdecade2010-2019\",\"filteryear20102010-2018\",\"filtermonth012010\",\"filterissueNameJan25,2010January\"],\n",
    "    [\"filterdecade2010-2019\",\"filteryear20102010-2018\",\"filtermonth012010\",\"filterissueNameJan24,2010January\"],\n",
    "    [\"filterdecade2010-2019\",\"filteryear20102010-2018\",\"filtermonth012010\",\"filterissueNameJan23,2010January\"],\n",
    "    [\"filterdecade2010-2019\",\"filteryear20102010-2018\",\"filtermonth012010\",\"filterissueNameJan22,2010January\"],\n",
    "    [\"filterdecade2010-2019\",\"filteryear20102010-2018\",\"filtermonth012010\",\"filterissueNameJan21,2010January\"],\n",
    "    [\"filterdecade2010-2019\",\"filteryear20102010-2018\",\"filtermonth012010\",\"filterissueNameJan20,2010January\"],\n",
    "    [\"filterdecade2010-2019\",\"filteryear20102010-2018\",\"filtermonth012010\",\"filterissueNameJan19,2010January\"]"
   ]
  },
  {
   "cell_type": "code",
   "execution_count": null,
   "metadata": {},
   "outputs": [],
   "source": [
    "def pages():\n",
    "    page filterdecade2010-2019,\n",
    "while 0<i<31\n",
    "     print(\"filterdecade2010-2019\",\"filteryear20102010-2018\",\"filtermonth012010\",\"filterissueNameJan ,2010Januaryb"
   ]
  },
  {
   "cell_type": "code",
   "execution_count": null,
   "metadata": {},
   "outputs": [],
   "source": [
    "student_list = [\"1\",\"2\",\"3\"]\n",
    "\n",
    "for student in student_list:\n",
    "    print( \"filterdecade2010-2019\",\"filteryear20102010-2018\",\"filtermonth012010\",\"filterissueNameJan29,2010January\"+ student)"
   ]
  },
  {
   "cell_type": "code",
   "execution_count": null,
   "metadata": {},
   "outputs": [],
   "source": [
    "month = [\n",
    "    ['Jan','January'],\n",
    "    ['Feb','February'],\n",
    "    ['Mar','March'],\n",
    "    ['Apr','April'],\n",
    "    ['May','May'],\n",
    "    ['Jun','June'],\n",
    "    ['Jul','July'],\n",
    "    ['Aug','August'],\n",
    "    ['Sep','September'],\n",
    "    ['Oct','October'],\n",
    "    ['Nov','November'],\n",
    "    ['Dec','December']\n",
    "]\n",
    "\n",
    "pages=[]\n",
    "for i in range(2010,2018):\n",
    "    a=\"filterdecade2010-2019\"\n",
    "    b=\"filteryear\"+str(i)+\"2010-2018\"\n",
    "    for n in [\"01\",\"02\",\"03\",\"04\",\"05\",\"06\",\"07\",\"08\",\"09\",\"10\",\"11\",\"12\"]:\n",
    "        c=\"filtermonth\"+n+str(i)\n",
    "        for m in range(1,31):\n",
    "            d=\"filterissueName\"+str(month[int(n)-1][0])+str(m)+\",\"+str(i)+str(month[int(n)-1][1])\n",
    "            a_page=[a,b,c,d]\n",
    "            pages.append(a_page)\n",
    "pages"
   ]
  },
  {
   "cell_type": "code",
   "execution_count": null,
   "metadata": {},
   "outputs": [],
   "source": [
    "pages=[\n",
    "    [\"filterdecade2010-2019\",\"filteryear20102010-2018\",\"filtermonth012010\",\"filterissueNameJan31,2010January\"],\n",
    "    [\"filterdecade2010-2019\",\"filteryear20102010-2018\",\"filtermonth012010\",\"filterissueNameJan30,2010January\"],\n",
    "    [\"filterdecade2010-2019\",\"filteryear20102010-2018\",\"filtermonth012010\",\"filterissueNameJan29,2010January\"],\n",
    "    [\"filterdecade2010-2019\",\"filteryear20102010-2018\",\"filtermonth012010\",\"filterissueNameJan28,2010January\"],\n",
    "    [\"filterdecade2010-2019\",\"filteryear20102010-2018\",\"filtermonth012010\",\"filterissueNameJan27,2010January\"],\n",
    "    [\"filterdecade2010-2019\",\"filteryear20102010-2018\",\"filtermonth012010\",\"filterissueNameJan26,2010January\"],\n",
    "    [\"filterdecade2010-2019\",\"filteryear20102010-2018\",\"filtermonth012010\",\"filterissueNameJan25,2010January\"],\n",
    "    [\"filterdecade2010-2019\",\"filteryear20102010-2018\",\"filtermonth012010\",\"filterissueNameJan24,2010January\"],\n",
    "    [\"filterdecade2010-2019\",\"filteryear20102010-2018\",\"filtermonth012010\",\"filterissueNameJan23,2010January\"],\n",
    "    [\"filterdecade2010-2019\",\"filteryear20102010-2018\",\"filtermonth012010\",\"filterissueNameJan22,2010January\"],\n",
    "    [\"filterdecade2010-2019\",\"filteryear20102010-2018\",\"filtermonth012010\",\"filterissueNameJan21,2010January\"],\n",
    "    [\"filterdecade2010-2019\",\"filteryear20102010-2018\",\"filtermonth012010\",\"filterissueNameJan20,2010January\"],\n",
    "    [\"filterdecade2010-2019\",\"filteryear20102010-2018\",\"filtermonth012010\",\"filterissueNameJan19,2010January\"],\n",
    "    [\"filterdecade2010-2019\",\"filteryear20102010-2018\",\"filtermonth012010\",\"filterissueNameJan18,2010January\"],\n",
    "    [\"filterdecade2010-2019\",\"filteryear20102010-2018\",\"filtermonth012010\",\"filterissueNameJan17,2010January\"],\n",
    "    [\"filterdecade2010-2019\",\"filteryear20102010-2018\",\"filtermonth012010\",\"filterissueNameJan16,2010January\"],\n",
    "    [\"filterdecade2010-2019\",\"filteryear20102010-2018\",\"filtermonth012010\",\"filterissueNameJan15,2010January\"],\n",
    "    [\"filterdecade2010-2019\",\"filteryear20102010-2018\",\"filtermonth012010\",\"filterissueNameJan14,2010January\"],\n",
    "    [\"filterdecade2010-2019\",\"filteryear20102010-2018\",\"filtermonth012010\",\"filterissueNameJan13,2010January\"],\n",
    "    [\"filterdecade2010-2019\",\"filteryear20102010-2018\",\"filtermonth012010\",\"filterissueNameJan12,2010January\"],\n",
    "    [\"filterdecade2010-2019\",\"filteryear20102010-2018\",\"filtermonth012010\",\"filterissueNameJan11,2010January\"],\n",
    "    [\"filterdecade2010-2019\",\"filteryear20102010-2018\",\"filtermonth012010\",\"filterissueNameJan10,2010January\"],\n",
    "    [\"filterdecade2010-2019\",\"filteryear20102010-2018\",\"filtermonth012010\",\"filterissueNameJan9,2010January\"],\n",
    "    [\"filterdecade2010-2019\",\"filteryear20102010-2018\",\"filtermonth012010\",\"filterissueNameJan8,2010January\"],\n",
    "    [\"filterdecade2010-2019\",\"filteryear20102010-2018\",\"filtermonth012010\",\"filterissueNameJan7,2010January\"],\n",
    "    [\"filterdecade2010-2019\",\"filteryear20102010-2018\",\"filtermonth012010\",\"filterissueNameJan6,2010January\"],\n",
    "    [\"filterdecade2010-2019\",\"filteryear20102010-2018\",\"filtermonth012010\",\"filterissueNameJan5,2010January\"],\n",
    "    [\"filterdecade2010-2019\",\"filteryear20102010-2018\",\"filtermonth012010\",\"filterissueNameJan4,2010January\"],\n",
    "    [\"filterdecade2010-2019\",\"filteryear20102010-2018\",\"filtermonth012010\",\"filterissueNameJan3,2010January\"],\n",
    "    [\"filterdecade2010-2019\",\"filteryear20102010-2018\",\"filtermonth012010\",\"filterissueNameJan2,2010January\"],\n",
    "    [\"filterdecade2010-2019\",\"filteryear20102010-2018\",\"filtermonth012010\",\"filterissueNameJan1,2010January\"],\n",
    "]"
   ]
  },
  {
   "cell_type": "code",
   "execution_count": null,
   "metadata": {},
   "outputs": [],
   "source": [
    "import os \n",
    "import glob\n",
    "import pandas \n"
   ]
  },
  {
   "cell_type": "code",
   "execution_count": null,
   "metadata": {},
   "outputs": [],
   "source": [
    "df1=pandas.read_csv(\"scmp2010a.csv\").sort_values(by=\"dates\",ascending=True)\n"
   ]
  },
  {
   "cell_type": "code",
   "execution_count": null,
   "metadata": {},
   "outputs": [],
   "source": [
    "import pandas \n",
    "df1=pandas.read_csv(\"scmp2010a.csv\").sort_values(by=\"dates\",ascending=True)\n",
    "df1"
   ]
  },
  {
   "cell_type": "code",
   "execution_count": null,
   "metadata": {},
   "outputs": [],
   "source": [
    "import pandas\n",
    "df1=pandas.read_csv(\"scmp2010a.csv\").sort_values(by=\"dates\",ascending=True)\n",
    "df2=pandas.read_csv(\"scmp2010b.csv\").sort_values(by=\"dates\",ascending=True)\n",
    "df3=pandas.read_csv(\"scmp2010c.csv\").sort_values(by=\"dates\",ascending=True)\n",
    "df4=pandas.read_csv(\"scmp2010d.csv\").sort_values(by=\"dates\",ascending=True)\n",
    "df5=pandas.read_csv(\"scmp2010e.csv\").sort_values(by=\"dates\",ascending=True)\n",
    "df6=pandas.read_csv(\"scmp2011.csv\").sort_values(by=\"dates\",ascending=True)\n",
    "df7=pandas.read_csv(\"scmp2012.csv\").sort_values(by=\"dates\",ascending=True)\n",
    "df8=pandas.read_csv(\"scmp201202.csv\").sort_values(by=\"dates\",ascending=True)\n",
    "df9=pandas.read_csv(\"scmp201203.csv\").sort_values(by=\"dates\",ascending=True)\n",
    "df10=pandas.read_csv(\"scmp201204.csv\").sort_values(by=\"dates\",ascending=True)\n",
    "df11=pandas.read_csv(\"scmp201206.csv\").sort_values(by=\"dates\",ascending=True)"
   ]
  },
  {
   "cell_type": "code",
   "execution_count": null,
   "metadata": {
    "scrolled": true
   },
   "outputs": [],
   "source": [
    "pd2010=pd.concat([df1,df2,df3,df4,df5], ignore_index=True)"
   ]
  },
  {
   "cell_type": "code",
   "execution_count": null,
   "metadata": {
    "scrolled": true
   },
   "outputs": [],
   "source": [
    "pd.concat([df1,df2,df3,df4,df5,df6,df7,df8,df9,df10,df11], ignore_index=True)"
   ]
  },
  {
   "cell_type": "code",
   "execution_count": null,
   "metadata": {},
   "outputs": [],
   "source": []
  }
 ],
 "metadata": {
  "kernelspec": {
   "display_name": "Python 3",
   "language": "python",
   "name": "python3"
  },
  "language_info": {
   "codemirror_mode": {
    "name": "ipython",
    "version": 3
   },
   "file_extension": ".py",
   "mimetype": "text/x-python",
   "name": "python",
   "nbconvert_exporter": "python",
   "pygments_lexer": "ipython3",
   "version": "3.7.0"
  }
 },
 "nbformat": 4,
 "nbformat_minor": 2
}
