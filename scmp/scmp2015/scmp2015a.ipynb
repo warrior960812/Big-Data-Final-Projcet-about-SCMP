{
 "cells": [
  {
   "cell_type": "code",
   "execution_count": 19,
   "metadata": {},
   "outputs": [],
   "source": [
    "root_url='https://search-proquest-com.lib-ezproxy.hkbu.edu.hk/asianews/publication/26858/citation/6F63087B31B643A0PQ/12?accountid=11440'\n",
    "from selenium import webdriver\n",
    "import time \n",
    "browser = webdriver.Chrome() #initiate webdriver\n",
    "browser.get(root_url)\n",
    "pages=[\n",
    "    [\"filterdecade2010-2019\",\"filteryear20152010-2018\",\"filtermonth022015\",\"filterissueNameFeb10,2015February\"],\n",
    "    [\"filterdecade2010-2019\",\"filteryear20152010-2018\",\"filtermonth022015\",\"filterissueNameFeb11,2015February\"],\n",
    "    [\"filterdecade2010-2019\",\"filteryear20152010-2018\",\"filtermonth022015\",\"filterissueNameFeb14,2015February\"],\n",
    "    [\"filterdecade2010-2019\",\"filteryear20152010-2018\",\"filtermonth022015\",\"filterissueNameFeb22,2015February\"],\n",
    "    [\"filterdecade2010-2019\",\"filteryear20152010-2018\",\"filtermonth022015\",\"filterissueNameFeb24,2015February\"],\n",
    "    [\"filterdecade2010-2019\",\"filteryear20152010-2018\",\"filtermonth032015\",\"filterissueNameMar20,2015March\"],\n",
    "]"
   ]
  },
  {
   "cell_type": "code",
   "execution_count": 20,
   "metadata": {},
   "outputs": [],
   "source": [
    "def scrape_one_page():\n",
    "    articles=browser.find_elements_by_class_name(\"resultItem\")\n",
    "    data=[]\n",
    "    for article in articles:\n",
    "        headline=article.find_element_by_class_name(\"truncatedResultsTitle\").text\n",
    "        byline=article.find_elements_by_class_name(\"titleAuthorETC\")[0].text\n",
    "        byline2=article.find_elements_by_class_name(\"titleAuthorETC\")[1].text\n",
    "        data.append((headline,byline,byline2,datestr))\n",
    "    return data "
   ]
  },
  {
   "cell_type": "code",
   "execution_count": 21,
   "metadata": {},
   "outputs": [
    {
     "name": "stdout",
     "output_type": "stream",
     "text": [
      "Failed on ['filterdecade2010-2019', 'filteryear20152010-2018', 'filtermonth22015', 'filterissueNameFeb10,2015February']\n",
      "Message: no such element: Unable to locate element: {\"method\":\"id\",\"selector\":\"filtermonth22015\"}\n",
      "  (Session info: chrome=69.0.3497.92)\n",
      "  (Driver info: chromedriver=2.43.600210 (68dcf5eebde37173d4027fa8635e332711d2874a),platform=Windows NT 10.0.17134 x86_64)\n",
      "\n",
      "Failed on ['filterdecade2010-2019', 'filteryear20152010-2018', 'filtermonth022015', 'filterissueNameFeb11,2015February']\n",
      "Message: no such element: Unable to locate element: {\"method\":\"id\",\"selector\":\"filterissueNameFeb11,2015February\"}\n",
      "  (Session info: chrome=69.0.3497.92)\n",
      "  (Driver info: chromedriver=2.43.600210 (68dcf5eebde37173d4027fa8635e332711d2874a),platform=Windows NT 10.0.17134 x86_64)\n",
      "\n",
      "Failed on ['filterdecade2010-2019', 'filteryear20152010-2018', 'filtermonth022015', 'filterissueNameFeb22,2015February']\n",
      "Message: no such element: Unable to locate element: {\"method\":\"css selector\",\"selector\":\"#lor_container > div.pub_bottom_sort_by > nav > ul > li:nth-child(5) > a\"}\n",
      "  (Session info: chrome=69.0.3497.92)\n",
      "  (Driver info: chromedriver=2.43.600210 (68dcf5eebde37173d4027fa8635e332711d2874a),platform=Windows NT 10.0.17134 x86_64)\n",
      "\n"
     ]
    }
   ],
   "source": [
    "SLEEP=5\n",
    "all_data=[]\n",
    "for page in pages:\n",
    "    try:\n",
    "        browser.get(root_url)\n",
    "        time.sleep(SLEEP)\n",
    "        for element in page:\n",
    "            browser.find_element_by_id(element).click()\n",
    "            time.sleep(SLEEP)\n",
    "        datestr=page[-1]\n",
    "        data=scrape_one_page()\n",
    "        all_data.extend(data)\n",
    "        nextpage=browser.find_element_by_css_selector(\"#lor_container > div.pub_bottom_sort_by > nav > ul > li:nth-child(5) > a\")\n",
    "        nextpage.click() \n",
    "        datestr=page[-1]\n",
    "        data=scrape_one_page()\n",
    "        all_data.extend(data)\n",
    "    except Exception as e:\n",
    "        print(\"Failed on\",page)\n",
    "        print(e)"
   ]
  },
  {
   "cell_type": "code",
   "execution_count": 22,
   "metadata": {},
   "outputs": [],
   "source": [
    "import pandas as pd \n",
    "df=pd.DataFrame(all_data,columns=[\"title\",\"byline\",\"byline2\",\"datestr\"])\n",
    "df\n",
    "for i in range(len(df[\"byline2\"])):\n",
    "    df['byline2'][i] = df['byline2'][i].split(']')[-1]\n",
    "df[\"byline2\"]\n",
    "for i in range(len(df[\"byline2\"])):\n",
    "    df[\"byline2\"][i]=df[\"byline2\"][i].split(\":\")[0]\n",
    "df[\"byline2\"]\n",
    "df\n",
    "del df[\"datestr\"]\n",
    "df.columns=[\"title\",\"byline\",\"dates\"]\n",
    "df.to_csv('scmpxw2015b.csv', encoding='utf-8')"
   ]
  },
  {
   "cell_type": "code",
   "execution_count": null,
   "metadata": {},
   "outputs": [],
   "source": []
  }
 ],
 "metadata": {
  "kernelspec": {
   "display_name": "Python 3",
   "language": "python",
   "name": "python3"
  },
  "language_info": {
   "codemirror_mode": {
    "name": "ipython",
    "version": 3
   },
   "file_extension": ".py",
   "mimetype": "text/x-python",
   "name": "python",
   "nbconvert_exporter": "python",
   "pygments_lexer": "ipython3",
   "version": "3.7.0"
  }
 },
 "nbformat": 4,
 "nbformat_minor": 2
}
